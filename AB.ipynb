{
 "cells": [
  {
   "cell_type": "markdown",
   "id": "f422d970",
   "metadata": {},
   "source": [
    "# A/B Testing Analysis"
   ]
  },
  {
   "cell_type": "code",
   "execution_count": 949,
   "id": "71494356",
   "metadata": {},
   "outputs": [
    {
     "name": "stdout",
     "output_type": "stream",
     "text": [
      "📝 Note: statsmodels not available. Using manual power calculations.\n"
     ]
    }
   ],
   "source": [
    "import pandas as pd\n",
    "import numpy as np\n",
    "import matplotlib.pyplot as plt\n",
    "import seaborn as sns\n",
    "from scipy import stats\n",
    "import warnings\n",
    "warnings.filterwarnings('ignore')\n",
    "\n",
    "# Try to import statsmodels for power analysis, use manual calculation if not available\n",
    "try:\n",
    "    from statsmodels.stats.power import ttest_power, solve_power\n",
    "    STATSMODELS_AVAILABLE = True\n",
    "except ImportError:\n",
    "    STATSMODELS_AVAILABLE = False\n",
    "    print(\"📝 Note: statsmodels not available. Using manual power calculations.\")\n",
    "    \n",
    "# Set style for professional plots\n",
    "plt.style.use('seaborn-v0_8')\n",
    "sns.set_palette(\"husl\")\n"
   ]
  },
  {
   "cell_type": "code",
   "execution_count": 950,
   "id": "68e42754",
   "metadata": {},
   "outputs": [
    {
     "name": "stdout",
     "output_type": "stream",
     "text": [
      "📊 Dataset Overview:\n",
      "Total sessions: 36\n",
      "Page A sessions: 21\n",
      "Page B sessions: 15\n",
      "\n",
      "First 10 rows:\n",
      "     Page  Time\n",
      "0  Page A  0.21\n",
      "1  Page B  2.53\n",
      "2  Page A  0.35\n",
      "3  Page B  0.71\n",
      "4  Page A  0.67\n",
      "5  Page B  0.85\n",
      "6  Page A  2.11\n",
      "7  Page B  2.46\n",
      "8  Page A  1.32\n",
      "9  Page B  1.49\n"
     ]
    }
   ],
   "source": [
    "# Load the dataset\n",
    "df = pd.read_csv(r\"C:\\Users\\Mohsu\\Desktop\\A-B testing Project 1\\web_page_data.csv\")\n",
    "print(\"📊 Dataset Overview:\")\n",
    "print(f\"Total sessions: {len(df)}\")\n",
    "print(f\"Page A sessions: {len(df[df['Page'] == 'Page A'])}\")\n",
    "print(f\"Page B sessions: {len(df[df['Page'] == 'Page B'])}\")\n",
    "print(\"\\nFirst 10 rows:\")\n",
    "print(df.head(10))    \n"
   ]
  },
  {
   "cell_type": "code",
   "execution_count": 951,
   "id": "2d2acdac",
   "metadata": {},
   "outputs": [
    {
     "name": "stdout",
     "output_type": "stream",
     "text": [
      "\n",
      "📊 Data after conversion to seconds:\n",
      "     Page   Time\n",
      "0  Page A   12.6\n",
      "1  Page B  151.8\n",
      "2  Page A   21.0\n",
      "3  Page B   42.6\n",
      "4  Page A   40.2\n",
      "5  Page B   51.0\n",
      "6  Page A  126.6\n",
      "7  Page B  147.6\n",
      "8  Page A   79.2\n",
      "9  Page B   89.4\n"
     ]
    }
   ],
   "source": [
    "# Convert time to seconds for better interpretation\n",
    "df['Time'] = df[\"Time\"] * 60 # Convert to milliseconds\n",
    "\n",
    "#check the data after conversion\n",
    "print(\"\\n📊 Data after conversion to seconds:\")\n",
    "print(df.head(10))    \n"
   ]
  },
  {
   "cell_type": "code",
   "execution_count": 952,
   "id": "4e2e1243",
   "metadata": {},
   "outputs": [
    {
     "name": "stdout",
     "output_type": "stream",
     "text": [
      "\n",
      "============================================================\n",
      "📈 EXPLORATORY DATA ANALYSIS\n",
      "============================================================\n"
     ]
    }
   ],
   "source": [
    "print(\"\\n\" + \"=\"*60)\n",
    "print(\"📈 EXPLORATORY DATA ANALYSIS\")\n",
    "print(\"=\"*60)\n",
    "# Separate data by page\n",
    "page_a = df[df['Page'] == 'Page A']['Time']\n",
    "page_b = df[df['Page'] == 'Page B']['Time']\n"
   ]
  },
  {
   "cell_type": "code",
   "execution_count": 953,
   "id": "3cd298d4",
   "metadata": {},
   "outputs": [],
   "source": [
    "# Descriptive statistics\n",
    "def calculate_stats(data, name):\n",
    "    stats_dict = {\n",
    "        'Group': name,\n",
    "        'Count': len(data),\n",
    "        'Mean': np.mean(data),\n",
    "        'Median': np.median(data),\n",
    "        'Std Dev': np.std(data, ddof=1),\n",
    "        'Min': np.min(data),\n",
    "        'Max': np.max(data),\n",
    "        'Q1': np.percentile(data, 25),\n",
    "        'Q3': np.percentile(data, 75)\n",
    "    }\n",
    "    return stats_dict\n",
    "\n",
    "stats_a = calculate_stats(page_a, 'Page A')\n",
    "stats_b = calculate_stats(page_b, 'Page B')\n"
   ]
  },
  {
   "cell_type": "code",
   "execution_count": 954,
   "id": "e4d76a69",
   "metadata": {},
   "outputs": [
    {
     "name": "stdout",
     "output_type": "stream",
     "text": [
      "\n",
      "📊 Descriptive Statistics Summary:\n",
      "    Group  Count  Mean  Median  Std Dev   Min    Max    Q1     Q3\n",
      "0  Page A     21  75.8    57.0    53.08  12.6  205.2  40.2  103.8\n",
      "1  Page B     15  97.2    88.2    60.68  25.8  214.2  48.0  140.7\n"
     ]
    }
   ],
   "source": [
    "# Create summary table\n",
    "summary_df = pd.DataFrame([stats_a, stats_b])\n",
    "print(\"\\n📊 Descriptive Statistics Summary:\")\n",
    "print(summary_df.round(2))"
   ]
  },
  {
   "cell_type": "code",
   "execution_count": 955,
   "id": "9aefe06a",
   "metadata": {},
   "outputs": [
    {
     "name": "stdout",
     "output_type": "stream",
     "text": [
      "\n",
      "🎯 Key Insights:\n",
      "• Page B average time: 97.2 seconds\n",
      "• Page A average time: 75.8 seconds\n",
      "• Absolute difference: 21.4 seconds\n",
      "• Percentage difference: 28.2%\n"
     ]
    }
   ],
   "source": [
    "# Calculate key metrics\n",
    "mean_diff = stats_b['Mean'] - stats_a['Mean']\n",
    "percent_diff = (mean_diff / stats_a['Mean']) * 100\n",
    "\n",
    "print(f\"\\n🎯 Key Insights:\")\n",
    "print(f\"• Page B average time: {stats_b['Mean']:.1f} seconds\")\n",
    "print(f\"• Page A average time: {stats_a['Mean']:.1f} seconds\")\n",
    "print(f\"• Absolute difference: {mean_diff:.1f} seconds\")\n",
    "print(f\"• Percentage difference: {percent_diff:.1f}%\")"
   ]
  },
  {
   "cell_type": "code",
   "execution_count": 956,
   "id": "ac23ba6a",
   "metadata": {},
   "outputs": [
    {
     "name": "stdout",
     "output_type": "stream",
     "text": [
      "\n",
      "============================================================\n",
      "📊 DATA VISUALIZATION\n",
      "============================================================\n"
     ]
    },
    {
     "data": {
      "image/png": "[encoded data removed]",
      "text/plain": [
       "<Figure size 1500x1200 with 4 Axes>"
      ]
     },
     "metadata": {},
     "output_type": "display_data"
    }
   ],
   "source": [
    "print(\"\\n\" + \"=\"*60)\n",
    "print(\"📊 DATA VISUALIZATION\")\n",
    "print(\"=\"*60)\n",
    "\n",
    "# Create comprehensive visualization\n",
    "fig, axes = plt.subplots(2, 2, figsize=(15, 12))\n",
    "fig.suptitle('A/B Testing Analysis: Landing Page Performance', fontsize=16, fontweight='bold')\n",
    "# 1. Box Plot Comparison\n",
    "axes[0, 0].boxplot([page_a, page_b], labels=['Page A', 'Page B'], patch_artist=True,\n",
    "                   boxprops=dict(facecolor='lightblue', alpha=0.7),\n",
    "                   medianprops=dict(color='red', linewidth=2))\n",
    "axes[0, 0].set_title('Time Distribution Comparison', fontweight='bold')\n",
    "axes[0, 0].set_ylabel('Time (seconds)')\n",
    "axes[0, 0].grid(True, alpha=0.3)\n",
    "# 2. Histogram Comparison\n",
    "axes[0, 1].hist(page_a, bins=8, alpha=0.7, label='Page A', color='skyblue', edgecolor='black')\n",
    "axes[0, 1].hist(page_b, bins=8, alpha=0.7, label='Page B', color='lightcoral', edgecolor='black')\n",
    "axes[0, 1].set_title('Time Distribution Histograms', fontweight='bold')\n",
    "axes[0, 1].set_xlabel('Time (seconds)')\n",
    "axes[0, 1].set_ylabel('Frequency')\n",
    "axes[0, 1].legend()\n",
    "axes[0, 1].grid(True, alpha=0.3)\n",
    "# 3. Mean Comparison Bar Chart\n",
    "pages = ['Page A', 'Page B']\n",
    "means = [stats_a['Mean'], stats_b['Mean']]\n",
    "stds = [stats_a['Std Dev'], stats_b['Std Dev']]\n",
    "\n",
    "bars = axes[1, 0].bar(pages, means, yerr=stds, capsize=5, \n",
    "                      color=['skyblue', 'lightcoral'], alpha=0.8, edgecolor='black')\n",
    "axes[1, 0].set_title('Average Time Comparison (with Error Bars)', fontweight='bold')\n",
    "axes[1, 0].set_ylabel('Average Time (seconds)')\n",
    "axes[1, 0].grid(True, alpha=0.3)\n",
    "# Add value labels on bars\n",
    "for bar, mean in zip(bars, means):\n",
    "    axes[1, 0].text(bar.get_x() + bar.get_width()/2, bar.get_height() + 5,\n",
    "                    f'{mean:.1f}s', ha='center', va='bottom', fontweight='bold')\n",
    "    \n",
    "# 4. Scatter Plot with Trend\n",
    "x_a = np.ones(len(page_a)) + np.random.normal(0, 0.05, len(page_a))\n",
    "x_b = np.ones(len(page_b)) * 2 + np.random.normal(0, 0.05, len(page_b))\n",
    "\n",
    "axes[1, 1].scatter(x_a, page_a, alpha=0.7, s=60, color='skyblue', label='Page A')\n",
    "axes[1, 1].scatter(x_b, page_b, alpha=0.7, s=60, color='lightcoral', label='Page B')\n",
    "axes[1, 1].set_xlim(0.5, 2.5)\n",
    "axes[1, 1].set_xticks([1, 2])\n",
    "axes[1, 1].set_xticklabels(['Page A', 'Page B'])\n",
    "axes[1, 1].set_title('Individual Session Times', fontweight='bold')\n",
    "axes[1, 1].set_ylabel('Time (seconds)')\n",
    "axes[1, 1].legend()\n",
    "axes[1, 1].grid(True, alpha=0.3)\n",
    "\n",
    "# Add mean lines\n",
    "axes[1, 1].axhline(y=stats_a['Mean'], xmin=0, xmax=0.4, color='blue', linestyle='--', linewidth=2)\n",
    "axes[1, 1].axhline(y=stats_b['Mean'], xmin=0.6, xmax=1, color='red', linestyle='--', linewidth=2)\n",
    "\n",
    "plt.tight_layout()\n",
    "plt.show()\n"
   ]
  },
  {
   "cell_type": "code",
   "execution_count": 957,
   "id": "e73a83ea",
   "metadata": {},
   "outputs": [
    {
     "name": "stdout",
     "output_type": "stream",
     "text": [
      "\n",
      "============================================================\n",
      "🔬 STATISTICAL ANALYSIS\n",
      "============================================================\n",
      "🧪 Testing Assumptions:\n"
     ]
    }
   ],
   "source": [
    "print(\"\\n\" + \"=\"*60)\n",
    "print(\"🔬 STATISTICAL ANALYSIS\")\n",
    "print(\"=\"*60)\n",
    "\n",
    "# Assumption Testing\n",
    "print(\"🧪 Testing Assumptions:\")"
   ]
  },
  {
   "cell_type": "code",
   "execution_count": 958,
   "id": "cbad1fca",
   "metadata": {},
   "outputs": [
    {
     "name": "stdout",
     "output_type": "stream",
     "text": [
      "🧪 Testing Assumptions:\n",
      "\n",
      "Normality Tests (Shapiro-Wilk):\n",
      "• Page A: p-value = 0.0175\n",
      "• Page B: p-value = 0.1612\n",
      "⚠️  At least one group may not be normally distributed\n"
     ]
    }
   ],
   "source": [
    "# Assumption Testing\n",
    "print(\"🧪 Testing Assumptions:\")\n",
    "\n",
    "# 1. Normality Test\n",
    "shapiro_a = stats.shapiro(page_a)\n",
    "shapiro_b = stats.shapiro(page_b)\n",
    "\n",
    "print(f\"\\nNormality Tests (Shapiro-Wilk):\")\n",
    "print(f\"• Page A: p-value = {shapiro_a.pvalue:.4f}\")\n",
    "print(f\"• Page B: p-value = {shapiro_b.pvalue:.4f}\")\n",
    "\n",
    "if shapiro_a.pvalue > 0.05 and shapiro_b.pvalue > 0.05:\n",
    "    print(\"✅ Both groups appear normally distributed\")\n",
    "else:\n",
    "    print(\"⚠️  At least one group may not be normally distributed\")"
   ]
  },
  {
   "cell_type": "code",
   "execution_count": 959,
   "id": "9363306f",
   "metadata": {},
   "outputs": [
    {
     "name": "stdout",
     "output_type": "stream",
     "text": [
      "\n",
      "Equal Variance Test (Levene's):\n",
      "• p-value = 0.4725\n",
      "✅ Equal variances assumed\n"
     ]
    }
   ],
   "source": [
    "# 2. Equal Variance Test\n",
    "levene_stat, levene_p = stats.levene(page_a, page_b)\n",
    "print(f\"\\nEqual Variance Test (Levene's):\")\n",
    "print(f\"• p-value = {levene_p:.4f}\")\n",
    "\n",
    "if levene_p > 0.05:\n",
    "    print(\"✅ Equal variances assumed\")\n",
    "    equal_var = True\n",
    "else:\n",
    "    print(\"⚠️  Unequal variances - using Welch's t-test\")\n",
    "    equal_var = False"
   ]
  },
  {
   "cell_type": "code",
   "execution_count": 960,
   "id": "9759d258",
   "metadata": {},
   "outputs": [
    {
     "name": "stdout",
     "output_type": "stream",
     "text": [
      "\n",
      "🎯 Hypothesis Testing:\n",
      "H₀: μ_B - μ_A = 0 (no difference)\n",
      "H₁: μ_B - μ_A > 0 (Page B has higher engagement)\n",
      "α = 0.05\n",
      "\n",
      "📊 Test Results:\n",
      "• t-statistic: 1.1237\n",
      "• p-value: 0.1345\n",
      "• Degrees of freedom: 34\n"
     ]
    }
   ],
   "source": [
    "# Two-Sample T-Test\n",
    "print(f\"\\n🎯 Hypothesis Testing:\")\n",
    "print(f\"H₀: μ_B - μ_A = 0 (no difference)\")\n",
    "print(f\"H₁: μ_B - μ_A > 0 (Page B has higher engagement)\")\n",
    "print(f\"α = 0.05\")\n",
    "\n",
    "t_stat, p_value = stats.ttest_ind(page_b, page_a, equal_var=equal_var, alternative='greater')\n",
    "\n",
    "print(f\"\\n📊 Test Results:\")\n",
    "print(f\"• t-statistic: {t_stat:.4f}\")\n",
    "print(f\"• p-value: {p_value:.4f}\")\n",
    "print(f\"• Degrees of freedom: {len(page_a) + len(page_b) - 2}\")"
   ]
  },
  {
   "cell_type": "code",
   "execution_count": 961,
   "id": "186a2b7b",
   "metadata": {},
   "outputs": [
    {
     "name": "stdout",
     "output_type": "stream",
     "text": [
      "❌ FAIL TO REJECT H₀: No statistically significant difference (p ≥ 0.05)\n"
     ]
    }
   ],
   "source": [
    "# Decision\n",
    "alpha = 0.05\n",
    "if p_value < alpha:\n",
    "    print(f\"✅ REJECT H₀: Statistically significant difference (p < {alpha})\")\n",
    "    decision = \"significant\"\n",
    "else:\n",
    "    print(f\"❌ FAIL TO REJECT H₀: No statistically significant difference (p ≥ {alpha})\")\n",
    "    decision = \"not significant\"\n"
   ]
  },
  {
   "cell_type": "code",
   "execution_count": 962,
   "id": "ed61af7d",
   "metadata": {},
   "outputs": [
    {
     "name": "stdout",
     "output_type": "stream",
     "text": [
      "\n",
      "📏 Effect Size:\n",
      "• Cohen's d: 0.3799\n",
      "• Effect size interpretation: small to medium\n"
     ]
    }
   ],
   "source": [
    "# Effect Size (Cohen's d)\n",
    "pooled_std = np.sqrt(((len(page_a) - 1) * np.var(page_a, ddof=1) + \n",
    "                      (len(page_b) - 1) * np.var(page_b, ddof=1)) / \n",
    "                     (len(page_a) + len(page_b) - 2))\n",
    "cohens_d = (np.mean(page_b) - np.mean(page_a)) / pooled_std\n",
    "\n",
    "print(f\"\\n📏 Effect Size:\")\n",
    "print(f\"• Cohen's d: {cohens_d:.4f}\")\n",
    "\n",
    "if abs(cohens_d) < 0.2:\n",
    "    effect_size = \"small\"\n",
    "elif abs(cohens_d) < 0.5:\n",
    "    effect_size = \"small to medium\"\n",
    "elif abs(cohens_d) < 0.8:\n",
    "    effect_size = \"medium to large\"\n",
    "else:\n",
    "    effect_size = \"large\"\n",
    "\n",
    "print(f\"• Effect size interpretation: {effect_size}\")"
   ]
  },
  {
   "cell_type": "code",
   "execution_count": 963,
   "id": "557c116f",
   "metadata": {},
   "outputs": [
    {
     "name": "stdout",
     "output_type": "stream",
     "text": [
      "\n",
      "📊 95% Confidence Interval for Difference:\n",
      "• Difference: 21.40 seconds\n",
      "• 95% CI: [-18.20, 61.00] seconds\n"
     ]
    }
   ],
   "source": [
    "# Confidence Interval\n",
    "from scipy.stats import t\n",
    "\n",
    "# 95% CI for difference in means\n",
    "diff_mean = np.mean(page_b) - np.mean(page_a)\n",
    "se_diff = np.sqrt(np.var(page_a, ddof=1)/len(page_a) + np.var(page_b, ddof=1)/len(page_b))\n",
    "df = len(page_a) + len(page_b) - 2\n",
    "t_critical = t.ppf(0.975, df)\n",
    "margin_error = t_critical * se_diff\n",
    "\n",
    "ci_lower = diff_mean - margin_error\n",
    "ci_upper = diff_mean + margin_error\n",
    "\n",
    "print(f\"\\n📊 95% Confidence Interval for Difference:\")\n",
    "print(f\"• Difference: {diff_mean:.2f} seconds\")\n",
    "print(f\"• 95% CI: [{ci_lower:.2f}, {ci_upper:.2f}] seconds\")"
   ]
  },
  {
   "cell_type": "code",
   "execution_count": 964,
   "id": "eee9f5d4",
   "metadata": {},
   "outputs": [
    {
     "name": "stdout",
     "output_type": "stream",
     "text": [
      "\n",
      "⚡ Power Analysis:\n",
      "• Observed power: 0.322\n",
      "⚠️  Low statistical power - results should be interpreted cautiously\n",
      "\n",
      "⚡ Power Analysis (Manual Calculation):\n"
     ]
    }
   ],
   "source": [
    "# Power Analysis\n",
    "try:\n",
    "    from statsmodels.stats.power import ttest_power\n",
    "    \n",
    "    # Calculate observed power\n",
    "    effect_size_std = cohens_d\n",
    "    n1, n2 = len(page_a), len(page_b)\n",
    "    \n",
    "    # For unequal sample sizes, use harmonic mean\n",
    "    n_harmonic = 2 * n1 * n2 / (n1 + n2)\n",
    "    power = ttest_power(effect_size_std, n_harmonic, alpha, alternative='two-sided')\n",
    "    \n",
    "    print(f\"\\n⚡ Power Analysis:\")\n",
    "    print(f\"• Observed power: {power:.3f}\")\n",
    "    \n",
    "    if power < 0.8:\n",
    "        print(\"⚠️  Low statistical power - results should be interpreted cautiously\")\n",
    "    else:\n",
    "        print(\"✅ Adequate statistical power\")\n",
    "\n",
    "    \n",
    "    # Calculate required sample size for 80% power\n",
    "    from statsmodels.stats.power import solve_power\n",
    "    required_n = solve_power(effect_size=cohens_d, power=0.8, alpha=alpha, alternative='two-sided')\n",
    "    print(f\"• Required sample size per group for 80% power: {int(np.ceil(required_n))}\")\n",
    "\n",
    "except ImportError:\n",
    "    print(\"\\n⚡ Power Analysis (Manual Calculation):\")"
   ]
  },
  {
   "cell_type": "code",
   "execution_count": 965,
   "id": "d7769b19",
   "metadata": {},
   "outputs": [
    {
     "name": "stdout",
     "output_type": "stream",
     "text": [
      "• Estimated power: 0.207\n",
      "⚠️  Low statistical power - results should be interpreted cautiously\n",
      "• Estimated required sample size per group for 80% power: 109\n"
     ]
    }
   ],
   "source": [
    "# Manual power calculation using normal approximation\n",
    "from scipy.stats import norm\n",
    "    \n",
    " # Calculate pooled standard error\n",
    "se_pooled = np.sqrt(2 * (pooled_std**2) / ((len(page_a) + len(page_b)) / 2))\n",
    "    \n",
    "# Calculate power using normal approximation\n",
    "critical_value = norm.ppf(1 - alpha/2)\n",
    "observed_effect = abs(np.mean(page_b) - np.mean(page_a))\n",
    "power_approx = 1 - norm.cdf(critical_value - observed_effect/se_pooled) + norm.cdf(-critical_value - observed_effect/se_pooled)\n",
    "    \n",
    "print(f\"• Estimated power: {power_approx:.3f}\")\n",
    "    \n",
    "if power_approx < 0.8:\n",
    "        print(\"⚠️  Low statistical power - results should be interpreted cautiously\")\n",
    "else:\n",
    "        print(\"✅ Adequate statistical power\")\n",
    "    \n",
    "    # Rough sample size estimate\n",
    "z_alpha = norm.ppf(1 - alpha/2)\n",
    "z_beta = norm.ppf(0.8)  # 80% power\n",
    "required_n_approx = 2 * ((z_alpha + z_beta) / cohens_d)**2\n",
    "print(f\"• Estimated required sample size per group for 80% power: {int(np.ceil(required_n_approx))}\")\n"
   ]
  },
  {
   "cell_type": "code",
   "execution_count": 966,
   "id": "72b849a0",
   "metadata": {},
   "outputs": [
    {
     "name": "stdout",
     "output_type": "stream",
     "text": [
      "\n",
      "============================================================\n",
      "💼 BUSINESS INSIGHTS & RECOMMENDATIONS\n",
      "============================================================\n",
      "\n",
      "🎯 Key Findings:\n",
      "1. Page B shows 28.2% higher average engagement\n",
      "2. Average time difference: 21.4 seconds\n",
      "3. Statistical significance: not significant\n",
      "4. Effect size: small to medium\n",
      "\n",
      "💡 Business Interpretation:\n",
      "⚠️  RECOMMENDATION: Inconclusive - Consider larger sample size\n",
      "• While Page B shows numerically higher engagement, the difference\n",
      "  is not statistically significant with current sample size\n",
      "• Effect size suggests there may be a real difference\n",
      "• Consider running a larger test or collecting more data\n"
     ]
    }
   ],
   "source": [
    "print(\"\\n\" + \"=\"*60)\n",
    "print(\"💼 BUSINESS INSIGHTS & RECOMMENDATIONS\")\n",
    "print(\"=\"*60)\n",
    "\n",
    "print(f\"\\n🎯 Key Findings:\")\n",
    "print(f\"1. Page B shows {percent_diff:.1f}% higher average engagement\")\n",
    "print(f\"2. Average time difference: {diff_mean:.1f} seconds\")\n",
    "print(f\"3. Statistical significance: {decision}\")\n",
    "print(f\"4. Effect size: {effect_size}\")\n",
    "\n",
    "print(f\"\\n💡 Business Interpretation:\")\n",
    "if p_value < alpha:\n",
    "    print(\"✅ RECOMMENDATION: Deploy Page B\")\n",
    "    print(\"• Statistically significant improvement in user engagement\")\n",
    "    print(\"• Higher engagement likely indicates better sales potential\")\n",
    "    print(\"• Consider monitoring conversion rates to validate proxy metric\")\n",
    "else:\n",
    "    print(\"⚠️  RECOMMENDATION: Inconclusive - Consider larger sample size\")\n",
    "    print(\"• While Page B shows numerically higher engagement, the difference\")\n",
    "    print(\"  is not statistically significant with current sample size\")\n",
    "    print(\"• Effect size suggests there may be a real difference\")\n",
    "    print(\"• Consider running a larger test or collecting more data\")"
   ]
  },
  {
   "cell_type": "code",
   "execution_count": 967,
   "id": "6ccaa899",
   "metadata": {},
   "outputs": [
    {
     "name": "stdout",
     "output_type": "stream",
     "text": [
      "\n",
      "📈 Future Test Recommendations:\n",
      "• For 80% power to detect observed effect: ~109 sessions per group\n",
      "• Current test provides limited power due to small sample size\n",
      "\n",
      "🔍 Limitations:\n",
      "• Small sample size limits statistical power\n",
      "• Time-on-page is a proxy metric - direct conversion tracking preferred\n",
      "• Assumes equal traffic allocation would be maintained\n",
      "• External factors (seasonality, marketing campaigns) not controlled\n",
      "\n",
      "✅ Next Steps:\n",
      "1. If deploying Page B: Monitor actual conversion rates\n",
      "2. If running larger test: Use calculated sample size\n",
      "3. Consider A/A testing to validate measurement system\n",
      "4. Document learnings for future optimization efforts\n"
     ]
    }
   ],
   "source": [
    "# Sample size calculation for future tests\n",
    "print(f\"\\n📈 Future Test Recommendations:\")\n",
    "try:\n",
    "    from statsmodels.stats.power import solve_power\n",
    "    desired_power = 0.8\n",
    "    required_n = solve_power(effect_size=cohens_d, power=desired_power, alpha=alpha, alternative='two-sided')\n",
    "    print(f\"• For 80% power to detect observed effect: ~{int(np.ceil(required_n))} sessions per group\")\n",
    "except ImportError:\n",
    "# Manual calculation if statsmodels not available\n",
    "    from scipy.stats import norm\n",
    "    z_alpha = norm.ppf(1 - alpha/2)\n",
    "    z_beta = norm.ppf(0.8)\n",
    "    required_n_manual = 2 * ((z_alpha + z_beta) / cohens_d)**2\n",
    "    print(f\"• For 80% power to detect observed effect: ~{int(np.ceil(required_n_manual))} sessions per group\")\n",
    "\n",
    "print(f\"• Current test provides limited power due to small sample size\")\n",
    "\n",
    "print(f\"\\n🔍 Limitations:\")\n",
    "print(\"• Small sample size limits statistical power\")\n",
    "print(\"• Time-on-page is a proxy metric - direct conversion tracking preferred\")\n",
    "print(\"• Assumes equal traffic allocation would be maintained\")\n",
    "print(\"• External factors (seasonality, marketing campaigns) not controlled\")\n",
    "\n",
    "print(f\"\\n✅ Next Steps:\")\n",
    "print(\"1. If deploying Page B: Monitor actual conversion rates\")\n",
    "print(\"2. If running larger test: Use calculated sample size\")\n",
    "print(\"3. Consider A/A testing to validate measurement system\")\n",
    "print(\"4. Document learnings for future optimization efforts\")"
   ]
  },
  {
   "cell_type": "code",
   "execution_count": 968,
   "id": "b828f765",
   "metadata": {},
   "outputs": [
    {
     "name": "stdout",
     "output_type": "stream",
     "text": [
      "\n",
      "============================================================\n",
      "💾 SAVING RESULTS\n",
      "============================================================\n",
      "📊 Results Summary:\n",
      "                   Metric                    Value\n",
      "            Sample Size A                       21\n",
      "            Sample Size B                       15\n",
      "        Mean Time A (sec)                    75.80\n",
      "        Mean Time B (sec)                    97.20\n",
      "         Difference (sec)                    21.40\n",
      "Percentage Difference (%)                    28.2%\n",
      "              t-statistic                   1.1237\n",
      "                  p-value                   0.1345\n",
      "                 Cohens d                   0.3799\n",
      " Statistical Significance          not significant\n",
      "              Effect Size          small to medium\n",
      "                    Power See power analysis above\n",
      "\n",
      "🎉 Analysis Complete!\n",
      "This analysis demonstrates:\n",
      "• Statistical hypothesis testing methodology\n",
      "• Effect size calculation and interpretation\n",
      "• Power analysis for sample size planning\n",
      "• Business-focused recommendations\n",
      "• Professional data visualization\n"
     ]
    }
   ],
   "source": [
    "print(\"\\n\" + \"=\"*60)\n",
    "print(\"💾 SAVING RESULTS\")\n",
    "print(\"=\"*60)\n",
    "\n",
    "# Save summary results\n",
    "results_summary = {\n",
    "    'Metric': ['Sample Size A', 'Sample Size B', 'Mean Time A (sec)', 'Mean Time B (sec)',\n",
    "               'Difference (sec)', 'Percentage Difference (%)', 't-statistic', 'p-value',\n",
    "               'Cohens d', 'Statistical Significance', 'Effect Size', 'Power'],\n",
    "    'Value': [len(page_a), len(page_b), f\"{stats_a['Mean']:.2f}\", f\"{stats_b['Mean']:.2f}\",\n",
    "              f\"{diff_mean:.2f}\", f\"{percent_diff:.1f}%\", f\"{t_stat:.4f}\", f\"{p_value:.4f}\",\n",
    "              f\"{cohens_d:.4f}\", decision, effect_size, \"See power analysis above\"]\n",
    "}\n",
    "\n",
    "results_df = pd.DataFrame(results_summary)\n",
    "print(\"📊 Results Summary:\")\n",
    "print(results_df.to_string(index=False))\n",
    "\n",
    "print(f\"\\n🎉 Analysis Complete!\")\n",
    "print(f\"This analysis demonstrates:\")\n",
    "print(f\"• Statistical hypothesis testing methodology\")\n",
    "print(f\"• Effect size calculation and interpretation\")\n",
    "print(f\"• Power analysis for sample size planning\")\n",
    "print(f\"• Business-focused recommendations\")\n",
    "print(f\"• Professional data visualization\")\n"
   ]
  }
 ],
 "metadata": {
  "kernelspec": {
   "display_name": "base",
   "language": "python",
   "name": "python3"
  },
  "language_info": {
   "codemirror_mode": {
    "name": "ipython",
    "version": 3
   },
   "file_extension": ".py",
   "mimetype": "text/x-python",
   "name": "python",
   "nbconvert_exporter": "python",
   "pygments_lexer": "ipython3",
   "version": "3.12.7"
  }
 },
 "nbformat": 4,
 "nbformat_minor": 5
}
